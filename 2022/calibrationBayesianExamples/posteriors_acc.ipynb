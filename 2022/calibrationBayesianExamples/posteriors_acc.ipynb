{
 "cells": [
  {
   "cell_type": "code",
   "execution_count": null,
   "id": "a0f689b6",
   "metadata": {},
   "outputs": [],
   "source": [
    "import numpy as np\n",
    "import scipy as sp\n",
    "import matplotlib.pyplot as mpl\n",
    "import pymc as pm\n",
    "import arviz as az\n",
    "import pandas as pd\n",
    "import os\n",
    "from datetime import datetime\n",
    "import sys\n",
    "from math import atan,cos,sin\n",
    "from vd_class import vd_8dof\n",
    "from point import Point"
   ]
  },
  {
   "cell_type": "markdown",
   "id": "664dc1b2",
   "metadata": {},
   "source": [
    "### Set up the vehilce model for the acceleration test"
   ]
  },
  {
   "cell_type": "code",
   "execution_count": null,
   "id": "aa4fcdb0",
   "metadata": {},
   "outputs": [],
   "source": [
    "# A zero steering function\n",
    "def zero_st(t):\n",
    "    return 0 *t\n",
    "\n",
    "\n",
    "\n",
    "# Used for obtaining the state from the chrono vehicle\n",
    "n1  = 100\n",
    "n2 = 850\n",
    "\n",
    "\n",
    "# The time duration of the simulation\n",
    "st_time = 1.0\n",
    "end_time = 8.5\n",
    "\n",
    "\n",
    "# The times for which we want the simulation\n",
    "time  = np.arange(st_time,end_time,0.01)\n",
    "t_eval= np.arange(st_time,end_time,0.01)\n",
    "\n",
    "\n",
    "max_th = 0.5\n",
    "\n",
    "# Now we construct the throttle function\n",
    "throt1 = Point(0.5,0)\n",
    "throt2 = Point(4.5,max_th)\n",
    "ramp_throt1 = throt1.get_eq(throt2)\n",
    "throt3 = Point(4.5,max_th)\n",
    "throt4 = Point(8.5,0)\n",
    "ramp_throt2 = throt3.get_eq(throt4)\n",
    "\n",
    "def ramp_throt(t):\n",
    "    if(t<4.5):\n",
    "        return ramp_throt1(t)\n",
    "    else:\n",
    "        return ramp_throt2(t)\n",
    "\n",
    "    \n",
    "def brake_tor(t):\n",
    "    return 0\n",
    "state = pd.read_csv(\"data/acc.csv\",sep=',',header='infer')\n",
    "## For the data with Cxf = 10e5\n",
    "# state = pd.read_csv(\"calib_mod_simp_acc_slow.csv\",sep=',',header='infer')\n",
    "\n",
    "st = {'x' : state['x'][n1],'y':state['y'][n1],'u':state['vx'][n1],'v':state['vy'][n1],'psi':state['yaw'][n1],\n",
    "'phi':state['roll'][n1],'wx':state['roll_rate'][n1],'wz':state['yaw_rate'][n1],\n",
    "'wlf' : state['wlf'][n1],'wlr' : state['wlr'][n1],'wrf' : state['wrf'][n1],'wrr' : state['wrr'][n1]}\n",
    "\n",
    "vehicle = vd_8dof(states = st)\n",
    "\n",
    "# Set the steering and the throttle functions we just created above\n",
    "vehicle.set_steering(zero_st)\n",
    "vehicle.set_throttle(ramp_throt,gr=0.3*0.2)\n",
    "vehicle.set_braking(brake_tor)\n",
    "vehicle.debug = 0"
   ]
  },
  {
   "cell_type": "markdown",
   "id": "d4bebbc5",
   "metadata": {},
   "source": [
    "### Get the data and chain files"
   ]
  },
  {
   "cell_type": "code",
   "execution_count": null,
   "id": "34fac6a3",
   "metadata": {},
   "outputs": [],
   "source": [
    "# The chain file\n",
    "filename = \"20220612_024952\"\n",
    "idata = az.from_netcdf('./results/' + filename + \".nc\")\n",
    "dataFileName = \"data/vd_chrono_acc_3.npy\"\n",
    "##The data in npy format\n",
    "with open(dataFileName, 'rb') as f:\n",
    "    data = np.load(f)\n"
   ]
  },
  {
   "cell_type": "code",
   "execution_count": null,
   "id": "960b39af",
   "metadata": {},
   "outputs": [],
   "source": [
    "save = False"
   ]
  },
  {
   "cell_type": "markdown",
   "id": "c6bd1022",
   "metadata": {},
   "source": [
    "### Set up the posteriors and the priors on parameters of interest"
   ]
  },
  {
   "cell_type": "code",
   "execution_count": null,
   "id": "123ff978",
   "metadata": {},
   "outputs": [],
   "source": [
    "shape = idata['posterior']['Cxf'].shape\n",
    "\n",
    "posterior_Cxf = np.asarray(idata['posterior']['Cxf']).reshape(shape[0]*shape[1],)\n",
    "posterior_Cxr = np.asarray(idata['posterior']['Cxr']).reshape(shape[0]*shape[1],)\n",
    "\n",
    "\n",
    "prior_Cxf = np.random.uniform(low=1000,high=50000,size=(shape[0]*shape[1]),)\n",
    "prior_Cxr = np.random.uniform(low=1000,high=50000,size=(shape[0]*shape[1]),)\n"
   ]
  },
  {
   "cell_type": "code",
   "execution_count": null,
   "id": "f07ca56c",
   "metadata": {},
   "outputs": [],
   "source": []
  },
  {
   "cell_type": "markdown",
   "id": "fb9873a9",
   "metadata": {},
   "source": [
    "### Sample from the posterior"
   ]
  },
  {
   "cell_type": "code",
   "execution_count": null,
   "id": "8ee2d06c",
   "metadata": {},
   "outputs": [],
   "source": [
    "#Number of posterior lines\n",
    "no_post = 100\n",
    "\n",
    "#Random points to sample\n",
    "random_points = np.random.randint(low=0,high=shape[0]*shape[1],size=(no_post,),dtype=int)\n",
    "\n",
    "#The posterior data lines - Longitudinal Velocity, LF angular velocity and RF angular velocity\n",
    "posterior_LOV = np.empty((no_post,time.shape[0]))\n",
    "posterior_LFW = np.empty((no_post,time.shape[0]))\n",
    "posterior_LRW = np.empty((no_post,time.shape[0]))\n",
    "\n",
    "\n",
    "for i in range(0,no_post):\n",
    "    vehicle.update_params(m=2097.85,muf=127.866,mur=129.98,a= 1.6889,b =1.6889,h = 0.713,cf = 1.82,cr = 1.82,\n",
    "                          Jx = 1289,Jz = 4519,Jxz = 3.265,Cf=50000,Cr=50000,r0=0.47,ktf=326332,ktr=326332,\n",
    "                          krof=37500,kror=37500,brof=15000,bror=15000,hrcf=0.379,hrcr=0.327,Jw=11,\n",
    "                          Cxf =posterior_Cxf[random_points[i]],Cxr =posterior_Cxr[random_points[i]],rr=0.0175)\n",
    "    \n",
    "    mod = vehicle.solve_half_impl(t_span = [t_eval[0],t_eval[-1]],t_eval = t_eval,tbar = 5e-3)\n",
    "    mod = np.transpose(mod)\n",
    "    vehicle.reset_state(init_state=st)\n",
    "    posterior_LOV[i] = mod[2,:]\n",
    "    posterior_LFW[i] = mod[8,:]\n",
    "    posterior_LRW[i] = mod[9,:]"
   ]
  },
  {
   "cell_type": "markdown",
   "id": "aa36a5fb",
   "metadata": {},
   "source": [
    "### Sample from the prior"
   ]
  },
  {
   "cell_type": "code",
   "execution_count": null,
   "id": "949a4214",
   "metadata": {},
   "outputs": [],
   "source": [
    "#Number of prior lines\n",
    "no_post = 100\n",
    "\n",
    "#Random points to sample\n",
    "random_points = np.random.randint(low=0,high=shape[0]*shape[1],size=(no_post,),dtype=int)\n",
    "\n",
    "#The prior data lines - Longitudinal Velocity, LF angular velocity and RF angular velocity\n",
    "prior_LOV = np.empty((no_post,time.shape[0]))\n",
    "prior_LFW = np.empty((no_post,time.shape[0]))\n",
    "prior_LRW = np.empty((no_post,time.shape[0]))\n",
    "\n",
    "\n",
    "for i in range(0,no_post):\n",
    "    vehicle.update_params(m=2097.85,muf=127.866,mur=129.98,a= 1.6889,b =1.6889,h = 0.713,cf = 1.82,cr = 1.82,\n",
    "                          Jx = 1289,Jz = 4519,Jxz = 3.265,Cf=50000,Cr=50000,r0=0.47,ktf=326332,ktr=326332,\n",
    "                          krof=37500,kror=37500,brof=15000,bror=15000,hrcf=0.379,hrcr=0.327,Jw=11,\n",
    "                          Cxf =prior_Cxf[random_points[i]],Cxr =prior_Cxr[random_points[i]],rr=0.0175)\n",
    "    \n",
    "    mod = vehicle.solve_half_impl(t_span = [t_eval[0],t_eval[-1]],t_eval = t_eval,tbar = 5e-3)\n",
    "    mod = np.transpose(mod)\n",
    "    vehicle.reset_state(init_state=st)\n",
    "    prior_LOV[i] = mod[2,:]\n",
    "    prior_LFW[i] = mod[8,:]\n",
    "    prior_LRW[i] = mod[9,:]"
   ]
  },
  {
   "cell_type": "markdown",
   "id": "68f0c5c0",
   "metadata": {},
   "source": [
    "### Posterior and prior expectation"
   ]
  },
  {
   "cell_type": "code",
   "execution_count": null,
   "id": "4b3aa7b8",
   "metadata": {},
   "outputs": [],
   "source": [
    "#Posterior\n",
    "post_exp_LOV = posterior_LOV.mean(axis=0)\n",
    "post_exp_LFW = posterior_LFW.mean(axis=0)\n",
    "post_exp_LRW = posterior_LRW.mean(axis=0)\n",
    "#prior\n",
    "prior_exp_LOV = prior_LOV.mean(axis=0)\n",
    "prior_exp_LFW = prior_LFW.mean(axis=0)\n",
    "prior_exp_LRW = prior_LRW.mean(axis=0)"
   ]
  },
  {
   "cell_type": "markdown",
   "id": "0601846f",
   "metadata": {},
   "source": [
    "### Plotting the mean posterior"
   ]
  },
  {
   "cell_type": "code",
   "execution_count": null,
   "id": "76e5394d",
   "metadata": {},
   "outputs": [],
   "source": [
    "## To plot the mean posterior \n",
    "post_Cxf = idata['posterior']['Cxf'].mean()\n",
    "post_Cxr = idata['posterior']['Cxr'].mean()\n",
    "\n",
    "vehicle.update_params(m=2097.85,muf=127.866,mur=129.98,a= 1.6889,b =1.6889,h = 0.713,cf = 1.82,cr = 1.82,\n",
    "                      Jx = 1289,Jz = 4519,Jxz = 3.265,Cf=50000,Cr=50000,r0=0.47,ktf=326332,ktr=326332,\n",
    "                          krof=37500,kror=37500,brof=15000,bror=15000,hrcf=0.379,hrcr=0.327,Jw=11,\n",
    "                      Cxf =post_Cxf,Cxr =post_Cxr,rr=0.0175)\n",
    "mod = vehicle.solve_half_impl(t_span = [t_eval[0],t_eval[-1]],t_eval = t_eval,tbar = 5e-3)\n",
    "mod = np.transpose(mod)\n",
    "vehicle.reset_state(init_state=st)\n",
    "\n",
    "\n",
    "post_mean_LOV = mod[2,:].reshape(-1,1)\n",
    "post_mean_LFW = mod[8,:].reshape(-1,1)\n",
    "post_mean_LRW = mod[9,:].reshape(-1,1)"
   ]
  },
  {
   "cell_type": "markdown",
   "id": "222c4d36",
   "metadata": {},
   "source": [
    "### Plotting the mean prior"
   ]
  },
  {
   "cell_type": "code",
   "execution_count": null,
   "id": "131311f2",
   "metadata": {},
   "outputs": [],
   "source": [
    "## To plot the mean priorerior \n",
    "prior_Cxf = prior_Cxf.mean()\n",
    "prior_Cxr = prior_Cxr.mean()\n",
    "\n",
    "vehicle.update_params(m=2097.85,muf=127.866,mur=129.98,a= 1.6889,b =1.6889,h = 0.713,cf = 1.82,cr = 1.82,\n",
    "                      Jx = 1289,Jz = 4519,Jxz = 3.265,Cf=50000,Cr=50000,r0=0.47,ktf=326332,ktr=326332,\n",
    "                          krof=37500,kror=37500,brof=15000,bror=15000,hrcf=0.379,hrcr=0.327,Jw=11,\n",
    "                      Cxf =prior_Cxf,Cxr =prior_Cxr,rr=0.0175)\n",
    "mod = vehicle.solve_half_impl(t_span = [t_eval[0],t_eval[-1]],t_eval = t_eval,tbar = 5e-3)\n",
    "mod = np.transpose(mod)\n",
    "vehicle.reset_state(init_state=st)\n",
    "\n",
    "\n",
    "prior_mean_LOV = mod[2,:].reshape(-1,1)\n",
    "prior_mean_LFW = mod[8,:].reshape(-1,1)\n",
    "prior_mean_LRW = mod[9,:].reshape(-1,1)"
   ]
  },
  {
   "cell_type": "markdown",
   "id": "ac6ca5c0",
   "metadata": {},
   "source": [
    "## Prior plots"
   ]
  },
  {
   "cell_type": "markdown",
   "id": "4a399f0c",
   "metadata": {},
   "source": [
    "### Longitudinal Velocity"
   ]
  },
  {
   "cell_type": "code",
   "execution_count": null,
   "id": "7bf37f0a",
   "metadata": {},
   "outputs": [],
   "source": [
    "mpl.figure(figsize = (6,6))\n",
    "\n",
    "for i in range(0,no_post):\n",
    "    mpl.plot(time,prior_LOV[i,:],'y',alpha = 0.2)\n",
    "\n",
    "# mpl.plot(time,data[])\n",
    "mpl.plot(time,data[0,:],'r',label ='noisy data')\n",
    "mpl.plot(time,prior_exp_LOV,'k--',linewidth=2,label='prior expectation')\n",
    "mpl.plot(time,prior_mean_LOV,'g--',linewidth=2,label='prior mean')\n",
    "mpl.title(\"Longitudinal Velocity - Prior\",fontsize = 20)\n",
    "mpl.xlabel('Time (S)',fontsize = 12)\n",
    "mpl.ylabel('Longitudinal Velocity (m/s)',fontsize = 12)\n",
    "mpl.legend()\n",
    "if(save):\n",
    "    mpl.savefig('./images/LOV_acc_prior_1.png',facecolor = 'w')"
   ]
  },
  {
   "cell_type": "markdown",
   "id": "07d00644",
   "metadata": {},
   "source": [
    "### LF Angular velocity"
   ]
  },
  {
   "cell_type": "code",
   "execution_count": null,
   "id": "5348bbbc",
   "metadata": {},
   "outputs": [],
   "source": [
    "mpl.figure(figsize = (6,6))\n",
    "\n",
    "for i in range(0,no_post):\n",
    "    mpl.plot(time,prior_LFW[i,:],'y',alpha = 0.2)\n",
    "\n",
    "mpl.plot(time,data[1,:],'r',label ='noisy data')\n",
    "mpl.plot(time,prior_exp_LFW,'k--',linewidth=2,label='prior expectation')\n",
    "mpl.plot(time,prior_mean_LFW,'g--',linewidth=2,label='prior mean')\n",
    "mpl.title(\"Angular Velocity (LF) - Prior\",fontsize = 20)\n",
    "mpl.xlabel('Time (S)',fontsize = 12)\n",
    "mpl.ylabel('Angular Velocity (rps)',fontsize = 12)\n",
    "mpl.legend()\n",
    "if(save):\n",
    "    mpl.savefig('./images/LFW_acc_prior_1.png',facecolor = 'w')"
   ]
  },
  {
   "cell_type": "markdown",
   "id": "7919ef66",
   "metadata": {},
   "source": [
    "### LR Angular velocity"
   ]
  },
  {
   "cell_type": "code",
   "execution_count": null,
   "id": "49b84cfd",
   "metadata": {},
   "outputs": [],
   "source": [
    "mpl.figure(figsize = (6,6))\n",
    "\n",
    "for i in range(0,no_post):\n",
    "    mpl.plot(time,prior_LRW[i,:],'y',alpha = 0.2)\n",
    "\n",
    "mpl.plot(time,data[2,:],'r',label ='noisy data')\n",
    "mpl.plot(time,prior_exp_LRW,'k--',linewidth=2,label='prior expectation')\n",
    "mpl.plot(time,prior_mean_LRW,'g--',linewidth=2,label='prior mean')\n",
    "mpl.title(\"Angular Velocity (LR) - Prior\",fontsize = 20)\n",
    "mpl.xlabel('Time (S)',fontsize = 12)\n",
    "mpl.ylabel('Angular Velocity (rps)',fontsize = 12)\n",
    "mpl.legend()\n",
    "if(save):\n",
    "    mpl.savefig('./images/LRW_acc_prior_1.png',facecolor = 'w')"
   ]
  },
  {
   "cell_type": "markdown",
   "id": "7402f76e",
   "metadata": {},
   "source": [
    "## Posterior plots"
   ]
  },
  {
   "cell_type": "markdown",
   "id": "adc3f275",
   "metadata": {},
   "source": [
    "### Longitudinal Velocity"
   ]
  },
  {
   "cell_type": "code",
   "execution_count": null,
   "id": "f55e2d7a",
   "metadata": {},
   "outputs": [],
   "source": [
    "mpl.figure(figsize = (6,6))\n",
    "\n",
    "for i in range(0,no_post):\n",
    "    mpl.plot(time,posterior_LOV[i,:],'b',alpha=0.2)\n",
    "\n",
    "mpl.plot(time,data[0,:],'r',label ='noisy data')\n",
    "mpl.plot(time,post_exp_LOV,'k',linewidth = 2,label='posterior expectiation')\n",
    "mpl.plot(time,post_mean_LOV,'g',linewidth=2,label='posterior mean')\n",
    "mpl.title(\"Longitudinal Velocity - Posterior\",fontsize = 20)\n",
    "mpl.xlabel('Time (S)',fontsize = 12)\n",
    "mpl.ylabel('Longitudinal Velocity (m/s)',fontsize = 12)\n",
    "mpl.legend()\n",
    "if(save):\n",
    "    mpl.savefig('./images/LOV_acc_post_1.png',facecolor = 'w')"
   ]
  },
  {
   "cell_type": "markdown",
   "id": "54733b31",
   "metadata": {},
   "source": [
    "### Angular velocity (LF)"
   ]
  },
  {
   "cell_type": "code",
   "execution_count": null,
   "id": "ddae2152",
   "metadata": {},
   "outputs": [],
   "source": [
    "mpl.figure(figsize = (6,6))\n",
    "\n",
    "for i in range(0,no_post):\n",
    "    mpl.plot(time,posterior_LFW[i,:],'b',alpha=0.2)\n",
    "\n",
    "mpl.plot(time,data[1,:],'r',label ='noisy data')\n",
    "mpl.plot(time,post_exp_LFW,'k',linewidth = 2,label='posterior expectiation')\n",
    "mpl.plot(time,post_mean_LFW,'g',linewidth=2,label='posterior mean')\n",
    "mpl.title(\"Angular Velocity (LF) - Posterior\",fontsize = 20)\n",
    "mpl.xlabel('Time (S)',fontsize = 12)\n",
    "mpl.ylabel('Angular Velocity (rps)',fontsize = 12)\n",
    "mpl.legend()\n",
    "if(save):\n",
    "    mpl.savefig('./images/LFW_acc_post_1.png',facecolor = 'w')"
   ]
  },
  {
   "cell_type": "markdown",
   "id": "da472e55",
   "metadata": {},
   "source": [
    "### Angular velocity (LR)"
   ]
  },
  {
   "cell_type": "code",
   "execution_count": null,
   "id": "40bb4d2c",
   "metadata": {},
   "outputs": [],
   "source": [
    "mpl.figure(figsize = (6,6))\n",
    "\n",
    "for i in range(0,no_post):\n",
    "    mpl.plot(time,posterior_LRW[i,:],'b',alpha=0.2)\n",
    "\n",
    "mpl.plot(time,data[2,:],'r',label ='noisy data')\n",
    "mpl.plot(time,post_exp_LRW,'k',linewidth = 2,label='posterior expectiation')\n",
    "mpl.plot(time,post_mean_LRW,'g',linewidth=2,label='posterior mean')\n",
    "mpl.title(\"Angular Velocity (LR) - Posterior\",fontsize = 20)\n",
    "mpl.xlabel('Time (S)',fontsize = 12)\n",
    "mpl.ylabel('Angular Velocity (rps)',fontsize = 12)\n",
    "mpl.legend()\n",
    "if(save):\n",
    "    mpl.savefig('./images/LRW_acc_post_1.png',facecolor = 'w')"
   ]
  },
  {
   "cell_type": "markdown",
   "id": "b9120b31",
   "metadata": {},
   "source": [
    "### RMSE"
   ]
  },
  {
   "cell_type": "markdown",
   "id": "418b2e67",
   "metadata": {},
   "source": [
    "### Longitudinal velocity"
   ]
  },
  {
   "cell_type": "code",
   "execution_count": null,
   "id": "cb9e186f",
   "metadata": {},
   "outputs": [],
   "source": [
    "msae_post_LOV = np.mean(np.sqrt((np.sum((posterior_LOV - data[0,:])**2,axis=1)/data.shape[1])))"
   ]
  },
  {
   "cell_type": "code",
   "execution_count": null,
   "id": "189c3f79",
   "metadata": {},
   "outputs": [],
   "source": [
    "msae_post_LOV"
   ]
  },
  {
   "cell_type": "code",
   "execution_count": null,
   "id": "8f1db52f",
   "metadata": {},
   "outputs": [],
   "source": [
    "msae_prior_LOV = np.mean(np.sqrt((np.sum((prior_LOV - data[0,:])**2,axis=1)/data.shape[1])))"
   ]
  },
  {
   "cell_type": "code",
   "execution_count": null,
   "id": "398f1177",
   "metadata": {},
   "outputs": [],
   "source": [
    "msae_prior_LOV"
   ]
  },
  {
   "cell_type": "markdown",
   "id": "ed1caf49",
   "metadata": {},
   "source": [
    "### LF "
   ]
  },
  {
   "cell_type": "code",
   "execution_count": null,
   "id": "01914d6d",
   "metadata": {},
   "outputs": [],
   "source": [
    "msae_post_LFW = np.mean(np.sqrt((np.sum((posterior_LFW - data[1,:])**2,axis=1)/data.shape[1])))\n",
    "msae_post_LFW"
   ]
  },
  {
   "cell_type": "code",
   "execution_count": null,
   "id": "71855d8a",
   "metadata": {},
   "outputs": [],
   "source": [
    "msae_prior_LFW = np.mean(np.sqrt((np.sum((prior_LFW - data[1,:])**2,axis=1)/data.shape[1])))\n",
    "msae_prior_LFW"
   ]
  },
  {
   "cell_type": "markdown",
   "id": "1c3e7012",
   "metadata": {},
   "source": [
    "### LR"
   ]
  },
  {
   "cell_type": "code",
   "execution_count": null,
   "id": "5f2f4c8d",
   "metadata": {},
   "outputs": [],
   "source": [
    "msae_post_LRW = np.mean(np.sqrt((np.sum((posterior_LRW - data[2,:])**2,axis=1)/data.shape[1])))\n",
    "msae_post_LRW"
   ]
  },
  {
   "cell_type": "code",
   "execution_count": null,
   "id": "dfd17460",
   "metadata": {},
   "outputs": [],
   "source": [
    "msae_prior_LRW = np.mean(np.sqrt((np.sum((prior_LRW - data[2,:])**2,axis=1)/data.shape[1])))\n",
    "msae_prior_LRW"
   ]
  }
 ],
 "metadata": {
  "kernelspec": {
   "display_name": "Python 3",
   "language": "python",
   "name": "python3"
  },
  "language_info": {
   "codemirror_mode": {
    "name": "ipython",
    "version": 3
   },
   "file_extension": ".py",
   "mimetype": "text/x-python",
   "name": "python",
   "nbconvert_exporter": "python",
   "pygments_lexer": "ipython3",
   "version": "3.9.12"
  }
 },
 "nbformat": 4,
 "nbformat_minor": 5
}
