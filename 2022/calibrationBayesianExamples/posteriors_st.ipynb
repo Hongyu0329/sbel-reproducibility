{
 "cells": [
  {
   "cell_type": "code",
   "execution_count": null,
   "id": "cbc7cc91",
   "metadata": {},
   "outputs": [],
   "source": [
    "import numpy as np\n",
    "import scipy as sp\n",
    "import matplotlib.pyplot as mpl\n",
    "import pymc as pm\n",
    "import arviz as az\n",
    "import pandas as pd\n",
    "import os\n",
    "from datetime import datetime\n",
    "import sys\n",
    "from math import atan,cos,sin\n",
    "from vd_class import vd_8dof\n",
    "from point import Point"
   ]
  },
  {
   "cell_type": "markdown",
   "id": "02ac40d4",
   "metadata": {},
   "source": [
    "### Set up vehicle model for steering test"
   ]
  },
  {
   "cell_type": "code",
   "execution_count": null,
   "id": "b6712827",
   "metadata": {},
   "outputs": [],
   "source": [
    "# A ramp steer\n",
    "pt1 = Point(0,0)\n",
    "pt2 = Point(3.7,0.2)\n",
    "ramp_st_3 = pt1.get_eq(pt2)\n",
    "\n",
    "# Used for obtaining the state from the chrono vehicle\n",
    "n1  = 700\n",
    "n2 = 1070\n",
    "\n",
    "\n",
    "# The time duration of the simulation\n",
    "st_time = 0.\n",
    "end_time = 3.7\n",
    "\n",
    "\n",
    "# The times for which we want the simulation\n",
    "time  = np.arange(st_time,end_time,0.01)\n",
    "t_eval = np.arange(st_time,end_time,0.01)\n",
    "\n",
    "def zero_throt(t):\n",
    "    return 0 * t\n",
    "def brake_tor(t):\n",
    "    return 0 * t\n",
    "\n",
    "state = pd.read_csv(\"data/simp_ramp.csv\",sep=',',header='infer')\n",
    "\n",
    "st = {'x' : state['x'][n1]-state['x'][n1],'y':state['y'][n1]-state['y'][n1],'u':state['vx'][n1],\n",
    "'v':state['vy'][n1],'psi':state['yaw'][n1],'phi':state['roll'][n1],'wx':state['roll_rate'][n1],\n",
    "'wz':state['yaw_rate'][n1],'wlf' : state['wlf'][n1],'wlr' : state['wlr'][n1],'wrf' : state['wrf'][n1],'wrr' : state['wrr'][n1]}\n",
    "\n",
    "vehicle = vd_8dof(states = st)\n",
    "\n",
    "# Set the steering and the throttle functions we just created above\n",
    "vehicle.set_steering(ramp_st_3)\n",
    "vehicle.set_throttle(zero_throt,gr=0.3*0.2)\n",
    "vehicle.set_braking(brake_tor)\n",
    "vehicle.debug = 0"
   ]
  },
  {
   "cell_type": "markdown",
   "id": "439ef709",
   "metadata": {},
   "source": [
    "### Get the chain and load the files"
   ]
  },
  {
   "cell_type": "code",
   "execution_count": null,
   "id": "1e7828fd",
   "metadata": {},
   "outputs": [],
   "source": [
    "# The chain file\n",
    "filename = \"20220611_230716\"\n",
    "idata = az.from_netcdf('./results/' + filename + \".nc\")\n",
    "dataFileName = \"data/vd_chrono_ramp_1.npy\"\n",
    "##The data in npy format\n",
    "with open(dataFileName, 'rb') as f:\n",
    "    data = np.load(f)\n"
   ]
  },
  {
   "cell_type": "code",
   "execution_count": null,
   "id": "bebc7ca1",
   "metadata": {},
   "outputs": [],
   "source": [
    "save = False"
   ]
  },
  {
   "cell_type": "markdown",
   "id": "f486c32c",
   "metadata": {},
   "source": [
    "### Set up the posteriors and the priors on parameters of interest"
   ]
  },
  {
   "cell_type": "code",
   "execution_count": null,
   "id": "54619e0b",
   "metadata": {},
   "outputs": [],
   "source": [
    "shape = idata['posterior']['Cf'].shape\n",
    "\n",
    "posterior_Cf = np.asarray(idata['posterior']['Cf']).reshape(shape[0]*shape[1],)\n",
    "posterior_Cr = np.asarray(idata['posterior']['Cr']).reshape(shape[0]*shape[1],)\n",
    "posterior_krof = np.asarray(idata['posterior']['krof']).reshape(shape[0]*shape[1],)\n",
    "posterior_kror =np.asarray(idata['posterior']['kror']).reshape(shape[0]*shape[1],)\n",
    "posterior_brof = np.asarray(idata['posterior']['brof']).reshape(shape[0]*shape[1],)\n",
    "posterior_bror =np.asarray(idata['posterior']['bror']).reshape(shape[0]*shape[1],)\n",
    "\n",
    "\n",
    "prior_Cf = np.random.uniform(low=20000,high=80000,size=(shape[0]*shape[1]),)\n",
    "prior_Cr = np.random.uniform(low=20000,high=80000,size=(shape[0]*shape[1]),)\n",
    "prior_krof = np.random.uniform(low=1000,high=50000,size=(shape[0]*shape[1]),)\n",
    "prior_kror = np.random.uniform(low=1000,high=50000,size=(shape[0]*shape[1]),)\n",
    "prior_bro = np.random.uniform(low=200,high=60000,size=(shape[0]*shape[1]),)\n",
    "prior_brof = prior_bro/2\n",
    "prior_bror = prior_bro/2"
   ]
  },
  {
   "cell_type": "markdown",
   "id": "5534343e",
   "metadata": {},
   "source": [
    "### Sample from the posterior"
   ]
  },
  {
   "cell_type": "code",
   "execution_count": null,
   "id": "968f8b67",
   "metadata": {},
   "outputs": [],
   "source": [
    "#Number of posterior samples\n",
    "no_post = 100\n",
    "\n",
    "\n",
    "random_points = np.random.randint(low=0,high=shape[0]*shape[1],size=(no_post,),dtype=int)\n",
    "\n",
    "#The posterior lines\n",
    "posterior_LV = np.empty((no_post,time.shape[0]))\n",
    "posterior_YW = np.empty((no_post,time.shape[0]))\n",
    "posterior_RA = np.empty((no_post,time.shape[0]))\n",
    "posterior_RR = np.empty((no_post,time.shape[0]))\n",
    "\n",
    "for i in range(0,no_post):\n",
    "    vehicle.update_params(Cf=posterior_Cf[random_points[i]],\n",
    "                      Cr = posterior_Cr[random_points[i]],krof = posterior_krof[random_points[i]],kror = posterior_kror[random_points[i]],\n",
    "                      brof = posterior_brof[random_points[i]],bror = posterior_bror[random_points[i]],\n",
    "                         m=2097.85,muf=127.866,mur=129.98,a= 1.6889,b =1.6889,h = 0.713,cf = 1.82,cr = 1.82,\n",
    "                          Jx = 1289,Jz = 4519,Jxz = 3.265,r0=0.47,ktf=326332,ktr=326332,hrcf=0.379,hrcr=0.327,Jw=11,\n",
    "                          Cxf = 10300,Cxr = 10300,rr=0.0125)\n",
    "    mod = vehicle.solve_half_impl(t_span = [t_eval[0],t_eval[-1]],t_eval = t_eval,tbar = 1e-2)\n",
    "    mod = np.transpose(mod)\n",
    "    vehicle.reset_state(init_state=st)\n",
    "\n",
    "    posterior_RA[i] = mod[5,:]\n",
    "    posterior_RR[i] = mod[6,:]\n",
    "    posterior_LV[i] = mod[3,:]\n",
    "    posterior_YW[i] = mod[7,:]\n"
   ]
  },
  {
   "cell_type": "markdown",
   "id": "f065a33d",
   "metadata": {},
   "source": [
    "### Sample from the prior"
   ]
  },
  {
   "cell_type": "code",
   "execution_count": null,
   "id": "26bd8ec5",
   "metadata": {},
   "outputs": [],
   "source": [
    "#Number of prior samples\n",
    "no_prior = 100\n",
    "\n",
    "\n",
    "random_points = np.random.randint(low=0,high=shape[0]*shape[1],size=(no_post,),dtype=int)\n",
    "\n",
    "#The prior lines\n",
    "prior_LV = np.empty((no_post,time.shape[0]))\n",
    "prior_YW = np.empty((no_post,time.shape[0]))\n",
    "prior_RA = np.empty((no_post,time.shape[0]))\n",
    "prior_RR = np.empty((no_post,time.shape[0]))\n",
    "\n",
    "for i in range(0,no_prior):\n",
    "    vehicle.update_params(Cf=prior_Cf[random_points[i]],\n",
    "                      Cr = prior_Cr[random_points[i]],krof = prior_krof[random_points[i]],kror = prior_kror[random_points[i]],\n",
    "                      brof = prior_brof[random_points[i]],bror = prior_bror[random_points[i]],\n",
    "                         m=2097.85,muf=127.866,mur=129.98,a= 1.6889,b =1.6889,h = 0.713,cf = 1.82,cr = 1.82,\n",
    "                          Jx = 1289,Jz = 4519,Jxz = 3.265,r0=0.47,ktf=326332,ktr=326332,hrcf=0.379,hrcr=0.327,Jw=11,\n",
    "                          Cxf = 10300,Cxr = 10300,rr=0.0125)\n",
    "    mod = vehicle.solve_half_impl(t_span = [t_eval[0],t_eval[-1]],t_eval = t_eval,tbar = 1e-2)\n",
    "    mod = np.transpose(mod)\n",
    "    vehicle.reset_state(init_state=st)\n",
    "\n",
    "    prior_RA[i] = mod[5,:]\n",
    "    prior_RR[i] = mod[6,:]\n",
    "    prior_LV[i] = mod[3,:]\n",
    "    prior_YW[i] = mod[7,:]\n"
   ]
  },
  {
   "cell_type": "markdown",
   "id": "dd685d18",
   "metadata": {},
   "source": [
    "### Expectations"
   ]
  },
  {
   "cell_type": "code",
   "execution_count": null,
   "id": "01d898a5",
   "metadata": {},
   "outputs": [],
   "source": [
    "post_exp_LV = posterior_LV.mean(axis=0)\n",
    "post_exp_YW = posterior_YW.mean(axis=0)\n",
    "post_exp_RA = posterior_RA.mean(axis=0)\n",
    "post_exp_RR = posterior_RR.mean(axis=0)\n",
    "\n",
    "prior_exp_LV = prior_LV.mean(axis=0)\n",
    "prior_exp_YW = prior_YW.mean(axis=0)\n",
    "prior_exp_RA = prior_RA.mean(axis=0)\n",
    "prior_exp_RR = prior_RR.mean(axis=0)"
   ]
  },
  {
   "cell_type": "markdown",
   "id": "6b946f85",
   "metadata": {},
   "source": [
    "### Mean posterior"
   ]
  },
  {
   "cell_type": "code",
   "execution_count": null,
   "id": "6f5df88c",
   "metadata": {},
   "outputs": [],
   "source": [
    "## To plot the mean posterior \n",
    "post_Cf = idata['posterior']['Cf'].mean()\n",
    "post_Cr = idata['posterior']['Cr'].mean()\n",
    "post_krof = idata['posterior']['krof'].mean()\n",
    "post_kror = idata['posterior']['kror'].mean()\n",
    "post_brof = idata['posterior']['brof'].mean()\n",
    "post_bror = idata['posterior']['bror'].mean()\n",
    "\n",
    "vehicle.update_params(Cf = post_Cf,Cr = post_Cr,krof = post_krof,kror = post_kror,brof = post_brof,bror = post_bror,\n",
    "                         m=2097.85,muf=127.866,mur=129.98,a= 1.6889,b =1.6889,h = 0.713,cf = 1.82,cr = 1.82,\n",
    "                      Jx = 1289,Jz = 4519,Jxz = 3.265,r0=0.47,ktf=326332,ktr=326332,hrcf=0.379,hrcr=0.327,Jw=11,\n",
    "                      Cxf = 10300,Cxr = 10300,rr=0.0125)\n",
    "mod = vehicle.solve_half_impl(t_span = [t_eval[0],t_eval[-1]],t_eval = t_eval,tbar = 1e-2)\n",
    "mod = np.transpose(mod)\n",
    "vehicle.reset_state(init_state=st)\n",
    "\n",
    "post_mean_RA = mod[5,:].reshape(-1,1)\n",
    "post_mean_RR = mod[6,:].reshape(-1,1)\n",
    "post_mean_LV = mod[3,:].reshape(-1,1)\n",
    "post_mean_YW = mod[7,:].reshape(-1,1)"
   ]
  },
  {
   "cell_type": "code",
   "execution_count": null,
   "id": "2a6e5602",
   "metadata": {},
   "outputs": [],
   "source": [
    "## To plot the mean priorerior \n",
    "prior_Cf = prior_Cf.mean()\n",
    "prior_Cr = prior_Cr.mean()\n",
    "prior_krof = prior_krof.mean()\n",
    "prior_kror = prior_kror.mean()\n",
    "prior_brof = prior_brof.mean()\n",
    "prior_bror = prior_bror.mean()\n",
    "\n",
    "vehicle.update_params(Cf = prior_Cf,Cr = prior_Cr,krof = prior_krof,kror = prior_kror,brof = prior_brof,bror = prior_bror,\n",
    "                         m=2097.85,muf=127.866,mur=129.98,a= 1.6889,b =1.6889,h = 0.713,cf = 1.82,cr = 1.82,\n",
    "                      Jx = 1289,Jz = 4519,Jxz = 3.265,r0=0.47,ktf=326332,ktr=326332,hrcf=0.379,hrcr=0.327,Jw=11,\n",
    "                      Cxf = 10300,Cxr = 10300,rr=0.0125)\n",
    "mod = vehicle.solve_half_impl(t_span = [t_eval[0],t_eval[-1]],t_eval = t_eval,tbar = 1e-2)\n",
    "mod = np.transpose(mod)\n",
    "vehicle.reset_state(init_state=st)\n",
    "\n",
    "prior_mean_RA = mod[5,:].reshape(-1,1)\n",
    "prior_mean_RR = mod[6,:].reshape(-1,1)\n",
    "prior_mean_LV = mod[3,:].reshape(-1,1)\n",
    "prior_mean_YW = mod[7,:].reshape(-1,1)"
   ]
  },
  {
   "cell_type": "markdown",
   "id": "53bbc1f1",
   "metadata": {},
   "source": [
    "## Priors"
   ]
  },
  {
   "cell_type": "markdown",
   "id": "400a05a9",
   "metadata": {},
   "source": [
    "### Lateral Velocity Prior"
   ]
  },
  {
   "cell_type": "code",
   "execution_count": null,
   "id": "135fb509",
   "metadata": {},
   "outputs": [],
   "source": [
    "mpl.figure(figsize = (6,6))\n",
    "\n",
    "for i in range(0,no_post):\n",
    "    mpl.plot(time,prior_LV[i,:],'y',alpha = 0.2)\n",
    "   \n",
    "mpl.plot(time,data[0,:],'r',label ='noisy data')\n",
    "mpl.plot(time,prior_exp_LV,'k--',linewidth=2,label='prior expectation')\n",
    "mpl.plot(time,prior_mean_LV,'g--',linewidth=2,label='prior mean')\n",
    "mpl.title(\"Lateral Velocity - Prior\",fontsize = 20)\n",
    "mpl.xlabel('Time (S)',fontsize = 12)\n",
    "mpl.ylabel('Lateral Velocity (m/s)',fontsize = 12)\n",
    "mpl.legend()\n",
    "if(save):\n",
    "    mpl.savefig('./images/LV_st_prior_1.png',facecolor = 'w')\n"
   ]
  },
  {
   "cell_type": "markdown",
   "id": "a1261246",
   "metadata": {},
   "source": [
    "### Yaw rate"
   ]
  },
  {
   "cell_type": "code",
   "execution_count": null,
   "id": "5432a28d",
   "metadata": {},
   "outputs": [],
   "source": [
    "mpl.figure(figsize = (6,6))\n",
    "mpl.plot(time,data[3,:],'r',label ='noisy data',alpha=0.75)\n",
    "for i in range(0,no_post):\n",
    "    mpl.plot(time,prior_YW[i,:],'y',alpha=0.2)\n",
    "\n",
    "mpl.plot(time,prior_exp_YW,'k--',linewidth=2,label='prior expectiation')\n",
    "mpl.title(\"Yaw Rate - Prior\",fontsize = 20)\n",
    "mpl.xlabel('Time (S)',fontsize = 12)\n",
    "mpl.ylabel('Yaw rate (rad/s)',fontsize = 12)\n",
    "mpl.plot(time,prior_mean_YW,'g--',linewidth=2,label='prior mean')\n",
    "mpl.legend()\n",
    "if(save):\n",
    "    mpl.savefig('./images/YR_st_prior_1.png',facecolor = 'w')"
   ]
  },
  {
   "cell_type": "markdown",
   "id": "2dba1720",
   "metadata": {},
   "source": [
    "### Roll angle"
   ]
  },
  {
   "cell_type": "code",
   "execution_count": null,
   "id": "09f1956c",
   "metadata": {},
   "outputs": [],
   "source": [
    "mpl.figure(figsize = (6,6))\n",
    "mpl.plot(time,data[1,:],'r',label ='noisy data',alpha=0.75)\n",
    "for i in range(0,no_post):\n",
    "    mpl.plot(time,prior_RA[i,:],'y',alpha=0.2)\n",
    "\n",
    "mpl.plot(time,prior_exp_RA,'k--',linewidth=2,label='prior expectiation')\n",
    "mpl.title(\"Roll Angle - Prior\",fontsize = 20)\n",
    "mpl.xlabel('Time (S)',fontsize = 12)\n",
    "mpl.ylabel('Roll Angle (rad)',fontsize = 12)\n",
    "mpl.ylim(top=0.4)\n",
    "mpl.plot(time,prior_mean_RA,'g--',linewidth=2,label='prior mean')\n",
    "mpl.legend()\n",
    "if(save):\n",
    "    mpl.savefig('./images/RA_st_prior_1.png',facecolor = 'w')"
   ]
  },
  {
   "cell_type": "markdown",
   "id": "f1c6924d",
   "metadata": {},
   "source": [
    "### Roll Rate"
   ]
  },
  {
   "cell_type": "code",
   "execution_count": null,
   "id": "e99635af",
   "metadata": {},
   "outputs": [],
   "source": [
    "mpl.figure(figsize = (6,6))\n",
    "mpl.plot(time,data[2,:],'r',label ='noisy data',alpha=0.75)\n",
    "for i in range(0,no_post):\n",
    "    mpl.plot(time,prior_RR[i,:],'y',alpha=0.2)\n",
    "\n",
    "mpl.plot(time,prior_exp_RR,'k--',linewidth=2,label='prior expectiation')\n",
    "mpl.title(\"Roll Rate - Prior\",fontsize = 20)\n",
    "mpl.xlabel('Time (S)',fontsize = 12)\n",
    "mpl.ylabel('Roll rate (rad/s)',fontsize = 12)\n",
    "mpl.ylim(bottom=-0.1,top=0.2)\n",
    "mpl.plot(time,prior_mean_RR,'g--',linewidth=2,label='prior mean')\n",
    "mpl.legend()\n",
    "if(save):\n",
    "    mpl.savefig('./images/RR_st_prior_1.png',facecolor = 'w')"
   ]
  },
  {
   "cell_type": "markdown",
   "id": "191576a2",
   "metadata": {},
   "source": [
    "## Posteriors"
   ]
  },
  {
   "cell_type": "markdown",
   "id": "eee6d05c",
   "metadata": {},
   "source": [
    "### Lateral Velocity"
   ]
  },
  {
   "cell_type": "code",
   "execution_count": null,
   "id": "fbc56ad9",
   "metadata": {},
   "outputs": [],
   "source": [
    "mpl.figure(figsize = (6,6))\n",
    "\n",
    "for i in range(0,no_post):\n",
    "    mpl.plot(time,posterior_LV[i,:],'b',alpha=0.75)\n",
    "    \n",
    "mpl.plot(time,data[0,:],'r',label ='noisy data')\n",
    "mpl.plot(time,post_exp_LV,'k',linewidth = 2,label='posterior expectiation')\n",
    "mpl.plot(time,post_mean_LV,'g',linewidth=2,label='posterior mean')\n",
    "mpl.title(\"Lateral Velocity - Posterior\",fontsize = 20)\n",
    "mpl.xlabel('Time (S)',fontsize = 12)\n",
    "mpl.ylabel('Lateral Velocity (m/s)',fontsize = 12)\n",
    "mpl.legend()\n",
    "if(save):\n",
    "    mpl.savefig('./images/LV_st_post_1.png',facecolor = 'w')\n"
   ]
  },
  {
   "cell_type": "markdown",
   "id": "83be1cb1",
   "metadata": {},
   "source": [
    "### Yaw rate psoterior"
   ]
  },
  {
   "cell_type": "code",
   "execution_count": null,
   "id": "55c82a39",
   "metadata": {},
   "outputs": [],
   "source": [
    "mpl.figure(figsize = (6,6))\n",
    "\n",
    "for i in range(0,no_post):\n",
    "    mpl.plot(time,posterior_YW[i,:],'b',alpha=0.2)\n",
    "mpl.plot(time,data[3,:],'r',label ='noisy data',alpha=0.75) \n",
    "mpl.plot(time,post_exp_YW,'k',linewidth = 2,label='posterior expectation')\n",
    "mpl.title(\"Yaw Rate - posterior\",fontsize = 20)\n",
    "mpl.xlabel('Time (S)',fontsize = 12)\n",
    "mpl.ylabel('Yaw rate (rad/s)',fontsize = 12)\n",
    "mpl.plot(time,post_mean_YW,'g',linewidth=2,label='posterior mean')\n",
    "\n",
    "mpl.legend()\n",
    "if(save):\n",
    "    mpl.savefig('./images/YR_st_post_1.png',facecolor = 'w')\n"
   ]
  },
  {
   "cell_type": "markdown",
   "id": "7b110631",
   "metadata": {},
   "source": [
    "### Roll angle prior"
   ]
  },
  {
   "cell_type": "code",
   "execution_count": null,
   "id": "ad1de51e",
   "metadata": {},
   "outputs": [],
   "source": [
    "mpl.figure(figsize = (6,6))\n",
    "\n",
    "for i in range(0,no_post):\n",
    "    mpl.plot(time,posterior_RA[i,:],'b',alpha=0.2)\n",
    "    \n",
    "mpl.plot(time,data[1,:],'r',label ='noisy data',alpha=0.75)\n",
    "mpl.plot(time,post_exp_RA,'k',linewidth = 2,label='posterior expectation')\n",
    "mpl.title(\"Roll Angle - Posterior\",fontsize = 20)\n",
    "mpl.xlabel('Time (S)',fontsize = 12)\n",
    "mpl.ylabel('Roll Angle (rad)',fontsize = 12)\n",
    "mpl.plot(time,post_mean_RA,'g',linewidth=2,label='posterior mean')\n",
    "mpl.legend()\n",
    "if(save):\n",
    "    mpl.savefig('./images/RA_st_post_1.png',facecolor = 'w')"
   ]
  },
  {
   "cell_type": "markdown",
   "id": "9f756834",
   "metadata": {},
   "source": [
    "### Roll rate"
   ]
  },
  {
   "cell_type": "code",
   "execution_count": null,
   "id": "6314dabe",
   "metadata": {},
   "outputs": [],
   "source": [
    "mpl.figure(figsize = (6,6))\n",
    "\n",
    "for i in range(0,no_post):\n",
    "    mpl.plot(time,posterior_RR[i,:],'b',alpha=0.2)\n",
    "    \n",
    "mpl.plot(time,data[2,:],'r',label ='noisy data',alpha=0.75)\n",
    "mpl.plot(time,post_exp_RR,'k',linewidth = 2,label='posterior expectation')\n",
    "mpl.title(\"Roll Rate - Posterior\",fontsize = 20)\n",
    "mpl.xlabel('Time (S)',fontsize = 12)\n",
    "mpl.ylabel('Roll rate (rad/s)',fontsize = 12)\n",
    "mpl.plot(time,post_mean_RR,'g',linewidth=2,label='posterior mean')\n",
    "mpl.legend()\n",
    "if(save):\n",
    "    mpl.savefig('./images/RR_st_post_1.png',facecolor = 'w')"
   ]
  },
  {
   "cell_type": "markdown",
   "id": "7e2cd416",
   "metadata": {},
   "source": [
    "### RMSE"
   ]
  },
  {
   "cell_type": "code",
   "execution_count": null,
   "id": "8b30f49c",
   "metadata": {},
   "outputs": [],
   "source": [
    "msae_post_LV = np.mean(np.sqrt((np.sum((posterior_LV - data[0,:])**2,axis=1)/data.shape[1])))"
   ]
  },
  {
   "cell_type": "code",
   "execution_count": null,
   "id": "42615995",
   "metadata": {},
   "outputs": [],
   "source": [
    "msae_post_LV"
   ]
  },
  {
   "cell_type": "code",
   "execution_count": null,
   "id": "a3454d4d",
   "metadata": {},
   "outputs": [],
   "source": [
    "msae_prior_LV = np.mean(np.sqrt((np.sum((prior_LV - data[0,:])**2,axis=1)/data.shape[1])))"
   ]
  },
  {
   "cell_type": "code",
   "execution_count": null,
   "id": "6dbae3e7",
   "metadata": {},
   "outputs": [],
   "source": [
    "msae_prior_LV"
   ]
  },
  {
   "cell_type": "code",
   "execution_count": null,
   "id": "d7d18d85",
   "metadata": {},
   "outputs": [],
   "source": [
    "msae_post_RA = np.mean(np.sqrt((np.sum((posterior_RA - data[1,:])**2,axis=1)/data.shape[1])))"
   ]
  },
  {
   "cell_type": "code",
   "execution_count": null,
   "id": "4d00862f",
   "metadata": {},
   "outputs": [],
   "source": [
    "msae_post_RA"
   ]
  },
  {
   "cell_type": "code",
   "execution_count": null,
   "id": "10561d06",
   "metadata": {},
   "outputs": [],
   "source": [
    "msae_prior_RA = np.mean(np.sqrt((np.sum((prior_RA - data[1,:])**2,axis=1)/data.shape[1])))"
   ]
  },
  {
   "cell_type": "code",
   "execution_count": null,
   "id": "3e035a1f",
   "metadata": {},
   "outputs": [],
   "source": [
    "msae_prior_RA"
   ]
  },
  {
   "cell_type": "code",
   "execution_count": null,
   "id": "3931f00e",
   "metadata": {},
   "outputs": [],
   "source": [
    "msae_post_RR = np.mean(np.sqrt((np.sum((posterior_RR - data[2,:])**2,axis=1)/data.shape[1])))"
   ]
  },
  {
   "cell_type": "code",
   "execution_count": null,
   "id": "f1569830",
   "metadata": {},
   "outputs": [],
   "source": [
    "msae_post_RR"
   ]
  },
  {
   "cell_type": "code",
   "execution_count": null,
   "id": "a4f721b8",
   "metadata": {},
   "outputs": [],
   "source": [
    "msae_prior_RR = np.mean(np.sqrt((np.sum((prior_RR - data[2,:])**2,axis=1)/data.shape[1])))"
   ]
  },
  {
   "cell_type": "code",
   "execution_count": null,
   "id": "5fab363e",
   "metadata": {},
   "outputs": [],
   "source": [
    "msae_prior_RR"
   ]
  },
  {
   "cell_type": "code",
   "execution_count": null,
   "id": "2c05966a",
   "metadata": {},
   "outputs": [],
   "source": [
    "msae_post_YW = np.mean(np.sqrt((np.sum((posterior_YW - data[3,:])**2,axis=1)/data.shape[1])))"
   ]
  },
  {
   "cell_type": "code",
   "execution_count": null,
   "id": "92a158a4",
   "metadata": {},
   "outputs": [],
   "source": [
    "msae_post_YW"
   ]
  },
  {
   "cell_type": "code",
   "execution_count": null,
   "id": "03fef04a",
   "metadata": {},
   "outputs": [],
   "source": [
    "msae_prior_YW = np.mean(np.sqrt((np.sum((prior_YW - data[3,:])**2,axis=1)/data.shape[1])))"
   ]
  },
  {
   "cell_type": "code",
   "execution_count": null,
   "id": "ad598df2",
   "metadata": {},
   "outputs": [],
   "source": [
    "msae_prior_YW"
   ]
  }
 ],
 "metadata": {
  "kernelspec": {
   "display_name": "Python 3",
   "language": "python",
   "name": "python3"
  },
  "language_info": {
   "codemirror_mode": {
    "name": "ipython",
    "version": 3
   },
   "file_extension": ".py",
   "mimetype": "text/x-python",
   "name": "python",
   "nbconvert_exporter": "python",
   "pygments_lexer": "ipython3",
   "version": "3.9.12"
  }
 },
 "nbformat": 4,
 "nbformat_minor": 5
}
