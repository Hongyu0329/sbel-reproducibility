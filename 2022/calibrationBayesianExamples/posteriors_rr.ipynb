{
 "cells": [
  {
   "cell_type": "code",
   "execution_count": null,
   "id": "b7663dac",
   "metadata": {},
   "outputs": [],
   "source": [
    "import numpy as np\n",
    "import scipy as sp\n",
    "import matplotlib.pyplot as mpl\n",
    "import pymc as pm\n",
    "import arviz as az\n",
    "import pandas as pd\n",
    "import os\n",
    "from datetime import datetime\n",
    "import sys\n",
    "from math import atan,cos,sin\n",
    "from vd_class import vd_8dof\n",
    "from point import Point"
   ]
  },
  {
   "cell_type": "markdown",
   "id": "78ae1119",
   "metadata": {},
   "source": [
    "### Set up the vehilce model for the acceleration test"
   ]
  },
  {
   "cell_type": "code",
   "execution_count": null,
   "id": "20ab0d2f",
   "metadata": {},
   "outputs": [],
   "source": [
    "# A zero steering function\n",
    "def zero_st(t):\n",
    "    return 0 *t\n",
    "\n",
    "def zero_throt(t):\n",
    "    return 0 *t\n",
    "\n",
    "def brake_tor(t):\n",
    "    return 0 * t\n",
    "\n",
    "\n",
    "# Used for obtaining the state from the chrono vehicle\n",
    "n1  = 560\n",
    "n2 = 1060\n",
    "\n",
    "\n",
    "# The time duration of the simulation\n",
    "st_time = 0.\n",
    "end_time = 5.\n",
    "\n",
    "\n",
    "# The times for which we want the simulation\n",
    "t_eval  = np.arange(st_time,end_time,0.01)\n",
    "time = np.arange(st_time,end_time,0.01)\n",
    "\n",
    "\n",
    "state = pd.read_csv(\"data/rr_1.csv\",sep=',',header='infer')\n",
    "\n",
    "st = {'x' : state['x'][n1],'y':state['y'][n1],'u':state['vx'][n1],'v':state['vy'][n1],'psi':state['yaw'][n1],\n",
    "'phi':state['roll'][n1],'wx':state['roll_rate'][n1],'wz':state['yaw_rate'][n1],\n",
    "'wlf' : state['wlf'][n1],'wlr' : state['wlr'][n1],'wrf' : state['wrf'][n1],'wrr' : state['wrr'][n1]}\n",
    "\n",
    "vehicle = vd_8dof(states = st)\n",
    "\n",
    "# Set the steering and the throttle functions we just created above\n",
    "vehicle.set_steering(zero_st)\n",
    "vehicle.set_throttle(zero_throt,gr=0.3*0.2)\n",
    "vehicle.set_braking(brake_tor)\n",
    "vehicle.debug = 0\n"
   ]
  },
  {
   "cell_type": "markdown",
   "id": "38d7c3ed",
   "metadata": {},
   "source": [
    "### Get the data and chain files"
   ]
  },
  {
   "cell_type": "code",
   "execution_count": null,
   "id": "59af4859",
   "metadata": {},
   "outputs": [],
   "source": [
    "# The chain file\n",
    "filename = \"20220612_025748\"\n",
    "idata = az.from_netcdf('./results/' + filename + \".nc\")\n",
    "dataFileName = \"data/vd_chrono_rr_1.npy\"\n",
    "##The data in npy format\n",
    "with open(dataFileName, 'rb') as f:\n",
    "    data = np.load(f)\n",
    "save = False"
   ]
  },
  {
   "cell_type": "markdown",
   "id": "eefd381e",
   "metadata": {},
   "source": [
    "### Set up the posteriors and the priors on parameters of interest"
   ]
  },
  {
   "cell_type": "code",
   "execution_count": null,
   "id": "096b7038",
   "metadata": {},
   "outputs": [],
   "source": [
    "shape = idata['posterior']['rr'].shape\n",
    "\n",
    "posterior_rr = np.asarray(idata['posterior']['rr']).reshape(shape[0]*shape[1],)\n",
    "\n",
    "\n",
    "\n",
    "prior_rr = np.random.uniform(low=0.005,high=0.03,size=(shape[0]*shape[1]),)\n",
    "\n"
   ]
  },
  {
   "cell_type": "markdown",
   "id": "c982095f",
   "metadata": {},
   "source": [
    "### Sample from the posterior"
   ]
  },
  {
   "cell_type": "code",
   "execution_count": null,
   "id": "0414fc30",
   "metadata": {},
   "outputs": [],
   "source": [
    "#Number of posterior lines\n",
    "no_post = 100\n",
    "\n",
    "#Random points to sample\n",
    "random_points = np.random.randint(low=0,high=shape[0]*shape[1],size=(no_post,),dtype=int)\n",
    "\n",
    "#The posterior data lines - Longitudinal Velocity, LF angular velocity and RF angular velocity\n",
    "posterior_LOV = np.empty((no_post,time.shape[0]))\n",
    "posterior_LFW = np.empty((no_post,time.shape[0]))\n",
    "posterior_LRW = np.empty((no_post,time.shape[0]))\n",
    "\n",
    "\n",
    "for i in range(0,no_post):\n",
    "    vehicle.update_params(m=2097.85,muf=127.866,mur=129.98,a= 1.6889,b =1.6889,h = 0.713,cf = 1.82,cr = 1.82,\n",
    "                          Jx = 1289,Jz = 4519,Jxz = 3.265,Cf=44016,Cr=54046,r0=0.47,ktf=326332,ktr=326332,\n",
    "                          krof=36245,kror=26439,brof=3863,bror=3863,hrcf=0.379,hrcr=0.327,Jw=11,\n",
    "                          Cxf = 10659,Cxr = 10280,rr=posterior_rr[random_points[i]])\n",
    "    \n",
    "    mod = vehicle.solve_half_impl(t_span = [t_eval[0],t_eval[-1]],t_eval = t_eval,tbar = 5e-3)\n",
    "    mod = np.transpose(mod)\n",
    "    vehicle.reset_state(init_state=st)\n",
    "    posterior_LOV[i] = mod[2,:]\n",
    "    posterior_LFW[i] = mod[8,:]\n",
    "    posterior_LRW[i] = mod[9,:]"
   ]
  },
  {
   "cell_type": "markdown",
   "id": "065bd015",
   "metadata": {},
   "source": [
    "### Sample from the prior\""
   ]
  },
  {
   "cell_type": "code",
   "execution_count": null,
   "id": "8efeaaca",
   "metadata": {},
   "outputs": [],
   "source": [
    "#Number of prior lines\n",
    "no_post = 100\n",
    "\n",
    "#Random points to sample\n",
    "random_points = np.random.randint(low=0,high=shape[0]*shape[1],size=(no_post,),dtype=int)\n",
    "\n",
    "#The prior data lines - Longitudinal Velocity, LF angular velocity and RF angular velocity\n",
    "prior_LOV = np.empty((no_post,time.shape[0]))\n",
    "prior_LFW = np.empty((no_post,time.shape[0]))\n",
    "prior_LRW = np.empty((no_post,time.shape[0]))\n",
    "\n",
    "\n",
    "for i in range(0,no_post):\n",
    "    vehicle.update_params(m=2097.85,muf=127.866,mur=129.98,a= 1.6889,b =1.6889,h = 0.713,cf = 1.82,cr = 1.82,\n",
    "                          Jx = 1289,Jz = 4519,Jxz = 3.265,Cf=44016,Cr=54046,r0=0.47,ktf=326332,ktr=326332,\n",
    "                          krof=36245,kror=26439,brof=3863,bror=3863,hrcf=0.379,hrcr=0.327,Jw=11,\n",
    "                          Cxf = 10659,Cxr = 10280,rr=prior_rr[random_points[i]])\n",
    "    \n",
    "    mod = vehicle.solve_half_impl(t_span = [t_eval[0],t_eval[-1]],t_eval = t_eval,tbar = 5e-3)\n",
    "    mod = np.transpose(mod)\n",
    "    vehicle.reset_state(init_state=st)\n",
    "    prior_LOV[i] = mod[2,:]\n",
    "    prior_LFW[i] = mod[8,:]\n",
    "    prior_LRW[i] = mod[9,:]"
   ]
  },
  {
   "cell_type": "markdown",
   "id": "1bea4700",
   "metadata": {},
   "source": [
    "### Posterior and prior expectation"
   ]
  },
  {
   "cell_type": "code",
   "execution_count": null,
   "id": "a5b48255",
   "metadata": {},
   "outputs": [],
   "source": [
    "#Posterior\n",
    "post_exp_LOV = posterior_LOV.mean(axis=0)\n",
    "post_exp_LFW = posterior_LFW.mean(axis=0)\n",
    "post_exp_LRW = posterior_LRW.mean(axis=0)\n",
    "#prior\n",
    "prior_exp_LOV = prior_LOV.mean(axis=0)\n",
    "prior_exp_LFW = prior_LFW.mean(axis=0)\n",
    "prior_exp_LRW = prior_LRW.mean(axis=0)"
   ]
  },
  {
   "cell_type": "markdown",
   "id": "e194b3f1",
   "metadata": {},
   "source": [
    "### Plotting the mean posterior"
   ]
  },
  {
   "cell_type": "code",
   "execution_count": null,
   "id": "ccc0d5a3",
   "metadata": {},
   "outputs": [],
   "source": [
    "## To plot the mean posterior \n",
    "post_rr = idata['posterior']['rr'].mean()\n",
    "\n",
    "vehicle.update_params(m=2097.85,muf=127.866,mur=129.98,a= 1.6889,b =1.6889,h = 0.713,cf = 1.82,cr = 1.82,\n",
    "                      Jx = 1289,Jz = 4519,Jxz = 3.265,Cf=44016,Cr=54046,r0=0.47,ktf=326332,ktr=326332,\n",
    "                      krof=36245,kror=26439,brof=3863,bror=3863,hrcf=0.379,hrcr=0.327,Jw=11,\n",
    "                      Cxf = 10659,Cxr = 10280,rr=post_rr)\n",
    "\n",
    "mod = vehicle.solve_half_impl(t_span = [t_eval[0],t_eval[-1]],t_eval = t_eval,tbar = 5e-3)\n",
    "mod = np.transpose(mod)\n",
    "vehicle.reset_state(init_state=st)\n",
    "\n",
    "post_mean_LOV = mod[2,:].reshape(-1,1)\n",
    "post_mean_LFW = mod[8,:].reshape(-1,1)\n",
    "post_mean_LRW = mod[9,:].reshape(-1,1)"
   ]
  },
  {
   "cell_type": "markdown",
   "id": "b5e40aaf",
   "metadata": {},
   "source": [
    "### Plotting the mean prior"
   ]
  },
  {
   "cell_type": "code",
   "execution_count": null,
   "id": "22731597",
   "metadata": {},
   "outputs": [],
   "source": [
    "## To plot the mean priorerior \n",
    "prior_rr = prior_rr.mean()\n",
    "\n",
    "vehicle.update_params(m=2097.85,muf=127.866,mur=129.98,a= 1.6889,b =1.6889,h = 0.713,cf = 1.82,cr = 1.82,\n",
    "                      Jx = 1289,Jz = 4519,Jxz = 3.265,Cf=44016,Cr=54046,r0=0.47,ktf=326332,ktr=326332,\n",
    "                      krof=36245,kror=26439,brof=3863,bror=3863,hrcf=0.379,hrcr=0.327,Jw=11,\n",
    "                      Cxf = 10659,Cxr = 10280,rr=prior_rr)\n",
    "\n",
    "mod = vehicle.solve_half_impl(t_span = [t_eval[0],t_eval[-1]],t_eval = t_eval,tbar = 5e-3)\n",
    "mod = np.transpose(mod)\n",
    "vehicle.reset_state(init_state=st)\n",
    "prior_mean_LOV = mod[2,:].reshape(-1,1)\n",
    "prior_mean_LFW = mod[8,:].reshape(-1,1)\n",
    "prior_mean_LRW = mod[9,:].reshape(-1,1)"
   ]
  },
  {
   "cell_type": "markdown",
   "id": "b86cab41",
   "metadata": {},
   "source": [
    "## Prior plots"
   ]
  },
  {
   "cell_type": "markdown",
   "id": "16d5f163",
   "metadata": {},
   "source": [
    "### Longitudinal Velocity"
   ]
  },
  {
   "cell_type": "code",
   "execution_count": null,
   "id": "a2fd75ef",
   "metadata": {},
   "outputs": [],
   "source": [
    "mpl.figure(figsize = (6,6))\n",
    "\n",
    "for i in range(0,no_post):\n",
    "    mpl.plot(time,prior_LOV[i,:],'y',alpha = 0.2)\n",
    "\n",
    "mpl.plot(time,data[0,:],'r',label ='noisy data')\n",
    "mpl.plot(time,prior_exp_LOV,'k--',linewidth=2,label='prior expectation')\n",
    "mpl.plot(time,prior_mean_LOV,'g--',linewidth=2,label='prior mean')\n",
    "mpl.title(\"Longitudinal Velocity - Prior\",fontsize = 20)\n",
    "mpl.xlabel('Time (S)',fontsize = 12)\n",
    "mpl.ylabel('Longitudinal Velocity (m/s)',fontsize = 12)\n",
    "mpl.legend()\n",
    "if(save):\n",
    "    mpl.savefig('./images/LOV_rr_prior_1.png',facecolor = 'w')"
   ]
  },
  {
   "cell_type": "markdown",
   "id": "65bd93de",
   "metadata": {},
   "source": [
    "## Posterior plots"
   ]
  },
  {
   "cell_type": "markdown",
   "id": "02157e1b",
   "metadata": {},
   "source": [
    "### Longitudinal Velocity"
   ]
  },
  {
   "cell_type": "code",
   "execution_count": null,
   "id": "853759ce",
   "metadata": {},
   "outputs": [],
   "source": [
    "mpl.figure(figsize = (6,6))\n",
    "\n",
    "for i in range(0,no_post):\n",
    "    mpl.plot(time,posterior_LOV[i,:],'b',alpha=0.2)\n",
    "    \n",
    "mpl.plot(time,data[0,:],'r',label ='noisy data')\n",
    "mpl.plot(time,post_exp_LOV,'k',linewidth = 2,label='posterior expectiation')\n",
    "mpl.plot(time,post_mean_LOV,'g',linewidth=2,label='posterior mean')\n",
    "mpl.title(\"Longitudinal Velocity - Posterior\",fontsize = 20)\n",
    "mpl.xlabel('Time (S)',fontsize = 12)\n",
    "mpl.ylabel('Longitudinal Velocity (m/s)',fontsize = 12)\n",
    "mpl.legend()\n",
    "if(save):\n",
    "    mpl.savefig('./images/LOV_rr_post_1.png',facecolor = 'w')"
   ]
  },
  {
   "cell_type": "markdown",
   "id": "d830f798",
   "metadata": {},
   "source": [
    "### RMSE"
   ]
  },
  {
   "cell_type": "code",
   "execution_count": null,
   "id": "896c01b3",
   "metadata": {},
   "outputs": [],
   "source": [
    "rmse_post_LOV = np.mean(np.sqrt((np.sum((posterior_LOV - data[0,:])**2,axis=1)/data.shape[1])))"
   ]
  },
  {
   "cell_type": "code",
   "execution_count": null,
   "id": "39f13d68",
   "metadata": {},
   "outputs": [],
   "source": [
    "rmse_post_LOV"
   ]
  },
  {
   "cell_type": "code",
   "execution_count": null,
   "id": "761a22bf",
   "metadata": {},
   "outputs": [],
   "source": [
    "msae_prior_LOV = np.mean(np.sqrt((np.sum((prior_LOV - data[0,:])**2,axis=1)/data.shape[1])))"
   ]
  },
  {
   "cell_type": "code",
   "execution_count": null,
   "id": "5f2e5b2a",
   "metadata": {},
   "outputs": [],
   "source": [
    "msae_prior_LOV"
   ]
  }
 ],
 "metadata": {
  "kernelspec": {
   "display_name": "Python 3",
   "language": "python",
   "name": "python3"
  },
  "language_info": {
   "codemirror_mode": {
    "name": "ipython",
    "version": 3
   },
   "file_extension": ".py",
   "mimetype": "text/x-python",
   "name": "python",
   "nbconvert_exporter": "python",
   "pygments_lexer": "ipython3",
   "version": "3.9.12"
  }
 },
 "nbformat": 4,
 "nbformat_minor": 5
}
