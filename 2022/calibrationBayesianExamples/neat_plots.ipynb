{
 "cells": [
  {
   "cell_type": "code",
   "execution_count": null,
   "metadata": {},
   "outputs": [],
   "source": [
    "import matplotlib.pyplot as mpl\n",
    "import pymc as pm\n",
    "import arviz as az\n",
    "import os\n",
    "import sys\n",
    "import numpy as np\n",
    "import arviz.labels as azl"
   ]
  },
  {
   "cell_type": "markdown",
   "metadata": {},
   "source": [
    "# Acceleration experiment"
   ]
  },
  {
   "cell_type": "code",
   "execution_count": null,
   "metadata": {},
   "outputs": [],
   "source": [
    "# The chain file\n",
    "filename = \"20220612_024952\"\n",
    "idata = az.from_netcdf('./results/' + filename + \".nc\")\n",
    "save = False"
   ]
  },
  {
   "cell_type": "markdown",
   "metadata": {},
   "source": [
    "### Posterior plots"
   ]
  },
  {
   "cell_type": "code",
   "execution_count": null,
   "metadata": {},
   "outputs": [],
   "source": [
    "labeller = azl.MapLabeller(var_name_map={\"Cxf\": r\"$C_{xf}$\",\"Cxr\": r\"$C_{xr}$\"})\n",
    "nlabeller = azl.MapLabeller(var_name_map={'sigmaLOV': r\"$\\sigma_{u}$\",\"sigmaLFW\": r\"$\\sigma_{\\omega_f}$\",\n",
    "                                          \"sigmaLRW\": r\"$\\sigma_{\\omega_r}$\"})"
   ]
  },
  {
   "cell_type": "code",
   "execution_count": null,
   "metadata": {},
   "outputs": [],
   "source": [
    "ax_post = az.plot_posterior(idata,figsize = (8,6),var_names = ['Cxf','Cxr'],labeller=labeller,textsize = 20)\n",
    "fig = ax_post.ravel()[0].figure\n",
    "\n",
    "path = 'images/'\n",
    "if(os.path.isdir(path)):\n",
    "    if(save):\n",
    "        fig.savefig(\"./images/acc_post_1.png\",facecolor = 'w',bbox_inches='tight')\n",
    "else:\n",
    "    os.mkdir(path)\n",
    "    if(save):\n",
    "        fig.savefig(\"./images/acc_post_1.png\",facecolor = 'w',bbox_inches='tight')"
   ]
  },
  {
   "cell_type": "code",
   "execution_count": null,
   "metadata": {},
   "outputs": [],
   "source": [
    "ax_post = az.plot_posterior(idata,figsize = (8,6),var_names = ['sigmaLOV','sigmaLFW','sigmaLRW'],labeller=nlabeller,\n",
    "                           textsize = 20)\n",
    "fig = ax_post.ravel()[0].figure\n",
    "fig.tight_layout()\n",
    "if(save):\n",
    "    fig.savefig(\"./images/acc_post_noise.png\",facecolor = 'w',bbox_inches='tight')"
   ]
  },
  {
   "cell_type": "code",
   "execution_count": null,
   "metadata": {},
   "outputs": [],
   "source": []
  },
  {
   "cell_type": "markdown",
   "metadata": {},
   "source": [
    "### Trace plot"
   ]
  },
  {
   "cell_type": "code",
   "execution_count": null,
   "metadata": {},
   "outputs": [],
   "source": [
    "ax_trace = az.plot_trace(idata,figsize = (8,6),var_names = ['Cxf','Cxr'],labeller=labeller)\n",
    "fig = ax_trace.ravel()[0].figure\n",
    "fig.tight_layout()\n",
    "for ax in ax_trace:\n",
    "    ax[0].title.set_size(20)\n",
    "    ax[1].title.set_size(20)\n",
    "    ax[0].tick_params(axis='both', which='major', labelsize=15)\n",
    "    ax[1].tick_params(axis='both', which='major', labelsize=15)\n",
    "if(save):\n",
    "    fig.savefig(\"./images/acc_trace_1.png\",facecolor = 'w',bbox_inches='tight')"
   ]
  },
  {
   "cell_type": "markdown",
   "metadata": {},
   "source": [
    "### Pairwise plot"
   ]
  },
  {
   "cell_type": "code",
   "execution_count": null,
   "metadata": {},
   "outputs": [],
   "source": [
    "ax_pair = az.plot_pair(idata,figsize = (8.5,6),var_names=['Cxf','Cxr'],labeller=labeller)\n",
    "# fig = ax_pair.ravel()[0].figure\n",
    "if(save):\n",
    "    fig.savefig(\"./images/acc_pair_1.png\",facecolor = 'w')"
   ]
  },
  {
   "cell_type": "markdown",
   "metadata": {},
   "source": [
    "### Autocorrelation plot"
   ]
  },
  {
   "cell_type": "code",
   "execution_count": null,
   "metadata": {},
   "outputs": [],
   "source": [
    "ax_autocorr = az.plot_autocorr(idata,combined = True,figsize = (8.5,6),var_names = ['Cxf','Cxr'],labeller=labeller)\n",
    "fig = ax_autocorr.ravel()[0].figure\n",
    "if(save):\n",
    "    fig.savefig(\"./images/acc_cor_1.png\",facecolor = 'w')"
   ]
  },
  {
   "cell_type": "markdown",
   "metadata": {},
   "source": [
    "### Effective Sample SIze"
   ]
  },
  {
   "cell_type": "code",
   "execution_count": null,
   "metadata": {},
   "outputs": [],
   "source": [
    "ax_ess = az.plot_ess(idata,kind = \"evolution\",figsize = (10,6),var_names = ['Cxf','Cxr'],labeller=labeller,\n",
    "                     textsize=20)\n",
    "fig = ax_ess.ravel()[0].figure\n",
    "fig.tight_layout()\n",
    "if(save):\n",
    "    fig.savefig(\"./images/acc_esse_1.png\",facecolor = 'w',bbox_inches='tight')"
   ]
  },
  {
   "cell_type": "code",
   "execution_count": null,
   "metadata": {},
   "outputs": [],
   "source": [
    "ax_ess = az.plot_ess(idata,kind = \"quantile\",figsize = (13,6),var_names = ['Cxf','Cxr'],labeller=labeller)\n",
    "fig = ax_ess.ravel()[0].figure\n",
    "if(save):\n",
    "    fig.savefig(\"./images/acc_essq_1.png\",facecolor = 'w')"
   ]
  },
  {
   "cell_type": "markdown",
   "metadata": {},
   "source": [
    "### Statisctics"
   ]
  },
  {
   "cell_type": "code",
   "execution_count": null,
   "metadata": {},
   "outputs": [],
   "source": [
    "sum_stats = az.summary(idata,kind='diagnostics',round_to = 4)"
   ]
  },
  {
   "cell_type": "code",
   "execution_count": null,
   "metadata": {},
   "outputs": [],
   "source": [
    "sum_stats"
   ]
  },
  {
   "cell_type": "markdown",
   "metadata": {},
   "source": [
    "# Rolling resistance experiment"
   ]
  },
  {
   "cell_type": "code",
   "execution_count": null,
   "metadata": {},
   "outputs": [],
   "source": [
    "# The chain file\n",
    "filename = \"20220612_025748\"\n",
    "idata = az.from_netcdf('./results/' + filename + \".nc\")\n",
    "save = False"
   ]
  },
  {
   "cell_type": "code",
   "execution_count": null,
   "metadata": {},
   "outputs": [],
   "source": [
    "nlabeller = azl.MapLabeller(var_name_map={'sigmaLOV': r\"$\\sigma_{u}$\"})"
   ]
  },
  {
   "cell_type": "markdown",
   "metadata": {},
   "source": [
    "### Posterior"
   ]
  },
  {
   "cell_type": "code",
   "execution_count": null,
   "metadata": {},
   "outputs": [],
   "source": [
    "ax_post = az.plot_posterior(idata,figsize = (8,6),var_names = ['rr'],labeller = nlabeller,textsize=18)\n",
    "ax_post.set_xticks(np.round(ax_post.get_xticks(),4),np.round(ax_post.get_xticks(),4), rotation=45)\n",
    "fig = ax_post.figure\n",
    "fig.tight_layout()\n",
    "path = 'images/'\n",
    "if(os.path.isdir(path)):\n",
    "    if(save):\n",
    "        fig.savefig(\"./images/rr_post_1.png\",facecolor = 'w',bbox_inches='tight')\n",
    "else:\n",
    "    os.mkdir(path)\n",
    "    if(save):\n",
    "        fig.savefig(\"./images/rr_post_1.png\",facecolor = 'w',bbox_inches='tight')"
   ]
  },
  {
   "cell_type": "code",
   "execution_count": null,
   "metadata": {},
   "outputs": [],
   "source": []
  },
  {
   "cell_type": "code",
   "execution_count": null,
   "metadata": {},
   "outputs": [],
   "source": [
    "ax_post = az.plot_posterior(idata,figsize = (8,6),var_names = ['sigmaLOV'],labeller = nlabeller,textsize=20)\n",
    "\n",
    "fig = ax_post.figure\n",
    "fig.tight_layout()\n",
    "path = 'images/'\n",
    "if(os.path.isdir(path)):\n",
    "    if(save):\n",
    "        fig.savefig(\"./images/rr_post_noise.png\",facecolor = 'w',bbox_inches='tight')\n",
    "else:\n",
    "    os.mkdir(path)\n",
    "    if(save):\n",
    "        fig.savefig(\"./images/rr_post_noise.png\",facecolor = 'w',bbox_inches='tight')"
   ]
  },
  {
   "cell_type": "markdown",
   "metadata": {},
   "source": [
    "### Trace"
   ]
  },
  {
   "cell_type": "code",
   "execution_count": null,
   "metadata": {},
   "outputs": [],
   "source": [
    "ax_trace = az.plot_trace(idata,figsize = (8.5,7),labeller=nlabeller)\n",
    "fig = ax_trace.ravel()[0].figure\n",
    "fig.tight_layout()\n",
    "for ax in ax_trace:\n",
    "    ax[0].title.set_size(20)\n",
    "    ax[1].title.set_size(20)\n",
    "    ax[0].tick_params(axis='both', which='major', labelsize=15)\n",
    "    ax[1].tick_params(axis='both', which='major', labelsize=15)\n",
    "if(save):\n",
    "    fig.savefig(\"./images/rr_trace_1.png\",facecolor = 'w',bbox_inces='tight')"
   ]
  },
  {
   "cell_type": "markdown",
   "metadata": {},
   "source": [
    "### Pairwise plot"
   ]
  },
  {
   "cell_type": "code",
   "execution_count": null,
   "metadata": {},
   "outputs": [],
   "source": [
    "ax_pair = az.plot_pair(idata,figsize = (8.5,6),labeller=nlabeller)\n",
    "if(save):\n",
    "    fig.savefig(\"./images/rr_pair_1.png\",facecolor = 'w')"
   ]
  },
  {
   "cell_type": "markdown",
   "metadata": {},
   "source": [
    "### ESS"
   ]
  },
  {
   "cell_type": "code",
   "execution_count": null,
   "metadata": {},
   "outputs": [],
   "source": [
    "ax_ess = az.plot_ess(idata,kind = \"evolution\",figsize = (13,6),labeller=nlabeller,textsize=20)\n",
    "fig = ax_ess.ravel()[0].figure\n",
    "fig.tight_layout()\n",
    "if(save):\n",
    "    fig.savefig(\"./images/rr_esse_1.png\",facecolor = 'w',bbox_inches='tight')"
   ]
  },
  {
   "cell_type": "markdown",
   "metadata": {},
   "source": [
    "### Stats\n"
   ]
  },
  {
   "cell_type": "code",
   "execution_count": null,
   "metadata": {},
   "outputs": [],
   "source": [
    "sum_stats = az.summary(idata,kind='diagnostics',round_to = 6)\n",
    "sum_stats"
   ]
  },
  {
   "cell_type": "markdown",
   "metadata": {},
   "source": [
    "# Steering experiment"
   ]
  },
  {
   "cell_type": "code",
   "execution_count": null,
   "metadata": {},
   "outputs": [],
   "source": [
    "# The chain file\n",
    "filename = \"20220611_230716\"\n",
    "idata = az.from_netcdf('./results/' + filename + \".nc\")\n",
    "save = False"
   ]
  },
  {
   "cell_type": "markdown",
   "metadata": {},
   "source": [
    "### Posterior plot"
   ]
  },
  {
   "cell_type": "code",
   "execution_count": null,
   "metadata": {},
   "outputs": [],
   "source": [
    "labeller = azl.MapLabeller(var_name_map={\"Cf\": r\"$C_{f}$\",\"Cr\": r\"$C_{r}$\",\"krof\":r\"$k_{\\phi_f}$\"\n",
    "                                        ,\"kror\":r\"$k_{\\phi_r}$\",\"brof\":r\"$b_{\\phi_f}$\",\"bror\":r\"$b_{\\phi_r}$\"})\n",
    "nlabeller = azl.MapLabeller(var_name_map={'sigmaLV': r\"$\\sigma_{v}$\",\"sigmaRA\": r\"$\\sigma_{\\phi}$\",\n",
    "                                          \"sigmaRR\":r\"$\\sigma_{\\dot{\\phi}}$\",\"sigmaYR\" : r\"$\\sigma_{\\dot{\\psi}}$\"})"
   ]
  },
  {
   "cell_type": "code",
   "execution_count": null,
   "metadata": {},
   "outputs": [],
   "source": [
    "ax_post = az.plot_posterior(idata,figsize = (12,8),var_names = ['Cf','Cr','krof','kror','brof','bror'],\n",
    "                            labeller=labeller,textsize=20)\n",
    "print(ax_post[0,1].set_xticks([53800,54260]))\n",
    "fig = ax_post.ravel()[0].figure\n",
    "fig.tight_layout()\n",
    "path = 'images/'\n",
    "if(os.path.isdir(path)):\n",
    "    if(save):\n",
    "        fig.savefig(\"./images/st_post_1.png\",facecolor = 'w',bbox_inches='tight')\n",
    "else:\n",
    "    os.mkdir(path)\n",
    "    if(save):\n",
    "        fig.savefig(\"./images/st_post_1.png\",facecolor = 'w',bbox_inches='tight')"
   ]
  },
  {
   "cell_type": "code",
   "execution_count": null,
   "metadata": {},
   "outputs": [],
   "source": [
    "ax_post = az.plot_posterior(idata,figsize = (10,4),var_names = [\"sigmaLV\",\"sigmaRA\",\"sigmaRR\",\"sigmaYR\"],\n",
    "                            labeller=nlabeller,textsize=17)\n",
    "\n",
    "for ax in ax_post:\n",
    "    ax.set_xticks(np.round(ax.get_xticks(),4),np.round(ax.get_xticks(),4), rotation=45)\n",
    "fig = ax_post.ravel()[0].figure\n",
    "fig.tight_layout()\n",
    "path = 'images/'\n",
    "if(os.path.isdir(path)):\n",
    "    if(save):\n",
    "        fig.savefig(\"./images/st_post_noise.png\",facecolor = 'w',bbox_inches='tight')\n",
    "else:\n",
    "    os.mkdir(path)\n",
    "    if(save):\n",
    "        fig.savefig(\"./images/st_post_noise.png\",facecolor = 'w',bbox_inches='tight')"
   ]
  },
  {
   "cell_type": "markdown",
   "metadata": {},
   "source": [
    "### Trace"
   ]
  },
  {
   "cell_type": "code",
   "execution_count": null,
   "metadata": {},
   "outputs": [],
   "source": [
    "ax_trace = az.plot_trace(idata,figsize = (8.5,12),var_names = ['Cf','Cr','krof']\n",
    "                         ,labeller=labeller)\n",
    "fig = ax_trace.ravel()[0].figure\n",
    "fig.tight_layout()\n",
    "for ax in ax_trace:\n",
    "    ax[0].title.set_size(20)\n",
    "    ax[1].title.set_size(20)\n",
    "    ax[0].tick_params(axis='both', which='major', labelsize=15)\n",
    "    ax[1].tick_params(axis='both', which='major', labelsize=15)\n",
    "if(save):\n",
    "    fig.savefig(\"./images/st_trace_1.png\",facecolor = 'w',bbox_inches='tight')"
   ]
  },
  {
   "cell_type": "code",
   "execution_count": null,
   "metadata": {},
   "outputs": [],
   "source": [
    "\n",
    "ax_trace = az.plot_trace(idata,figsize = (8.5,12),var_names = ['kror','brof','bror']\n",
    "                         ,labeller=labeller)\n",
    "fig = ax_trace.ravel()[0].figure\n",
    "fig.tight_layout()\n",
    "for ax in ax_trace:\n",
    "    ax[0].title.set_size(20)\n",
    "    ax[1].title.set_size(20)\n",
    "    ax[0].tick_params(axis='both', which='major', labelsize=15)\n",
    "    ax[1].tick_params(axis='both', which='major', labelsize=15)\n",
    "\n",
    "if(save):\n",
    "    fig.savefig(\"./images/st_trace_2.png\",facecolor = 'w',bbox_inches='tight')"
   ]
  },
  {
   "cell_type": "markdown",
   "metadata": {},
   "source": [
    "### Pairwise correlation"
   ]
  },
  {
   "cell_type": "code",
   "execution_count": null,
   "metadata": {},
   "outputs": [],
   "source": [
    "ax_pair = az.plot_pair(idata,figsize = (10,8),var_names=['Cf','Cr','krof','kror','brof','bror']\n",
    "                       ,labeller=labeller)\n",
    "fig = ax_pair.ravel()[0].figure\n",
    "if(save):\n",
    "    fig.savefig(\"./images/st_pair_1.png\",facecolor = 'w')"
   ]
  },
  {
   "cell_type": "code",
   "execution_count": null,
   "metadata": {},
   "outputs": [],
   "source": [
    "ax_pair = az.plot_pair(idata,figsize = (6,6),var_names=['brof','bror']\n",
    "                       ,labeller=labeller,textsize=20,kind='kde')\n",
    "fig = ax_pair.figure\n",
    "fig.tight_layout()\n",
    "if(save):\n",
    "    fig.savefig(\"./images/st_pair_2.png\",facecolor = 'w')"
   ]
  },
  {
   "cell_type": "markdown",
   "metadata": {},
   "source": [
    "### ESS"
   ]
  },
  {
   "cell_type": "code",
   "execution_count": null,
   "metadata": {},
   "outputs": [],
   "source": [
    "ax_ess = az.plot_ess(idata,kind = \"evolution\",figsize = (14,6),var_names=['Cf','Cr','krof'],\n",
    "                     labeller=labeller,textsize=20)\n",
    "fig = ax_ess.ravel()[0].figure\n",
    "fig.tight_layout()\n",
    "if(save):\n",
    "    fig.savefig(\"./images/st_esse_1.png\",facecolor = 'w',bbox_inches='tight')"
   ]
  },
  {
   "cell_type": "code",
   "execution_count": null,
   "metadata": {},
   "outputs": [],
   "source": [
    "ax_ess = az.plot_ess(idata,kind = \"evolution\",figsize = (14,6),var_names=['kror','brof','bror'],\n",
    "                     labeller=labeller,textsize=20)\n",
    "fig = ax_ess.ravel()[0].figure\n",
    "fig.tight_layout()\n",
    "if(save):\n",
    "    fig.savefig(\"./images/st_esse_2.png\",facecolor = 'w',bbox_inches='tight')"
   ]
  },
  {
   "cell_type": "markdown",
   "metadata": {},
   "source": [
    "### Stats\n"
   ]
  },
  {
   "cell_type": "code",
   "execution_count": null,
   "metadata": {},
   "outputs": [],
   "source": [
    "sum_stats = az.summary(idata,kind='diagnostics',round_to = 6)\n",
    "np.mean(sum_stats['r_hat'])"
   ]
  },
  {
   "cell_type": "code",
   "execution_count": null,
   "metadata": {},
   "outputs": [],
   "source": [
    "print(f\"Mean r_hat for all paramters is {sum_stats.loc[:,'r_hat'].mean()}\")\n",
    "print(f\"Sampling time in hours {round(idata.sample_stats.sampling_time/60,2)}\")\n",
    "print(f\"The Bulk relative effective sample size is {np.mean(az.ess(idata,var_names=['Cf','Cr','krof','kror','brof','bror','sigmaLV','sigmaRA','sigmaRR','sigmaYR']).to_array())}\")\n",
    "print(f\"The Bulk Effective samples per second is {az.ess(idata,var_names=['Cf','Cr','krof','kror','brof','bror','sigmaLV','sigmaRA','sigmaRR','sigmaYR'])/idata.sample_stats.sampling_time}\")"
   ]
  },
  {
   "cell_type": "code",
   "execution_count": null,
   "metadata": {},
   "outputs": [],
   "source": []
  }
 ],
 "metadata": {
  "kernelspec": {
   "display_name": "Python 3",
   "language": "python",
   "name": "python3"
  },
  "language_info": {
   "codemirror_mode": {
    "name": "ipython",
    "version": 3
   },
   "file_extension": ".py",
   "mimetype": "text/x-python",
   "name": "python",
   "nbconvert_exporter": "python",
   "pygments_lexer": "ipython3",
   "version": "3.9.12"
  }
 },
 "nbformat": 4,
 "nbformat_minor": 4
}
